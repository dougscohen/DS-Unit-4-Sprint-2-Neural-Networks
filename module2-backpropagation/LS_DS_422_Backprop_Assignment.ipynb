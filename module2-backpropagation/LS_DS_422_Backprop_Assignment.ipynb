{
  "nbformat": 4,
  "nbformat_minor": 0,
  "metadata": {
    "colab": {
      "name": "LS_DS_422_Backprop_Assignment.ipynb",
      "provenance": [],
      "include_colab_link": true
    },
    "kernelspec": {
      "display_name": "Python 3",
      "language": "python",
      "name": "python3"
    },
    "language_info": {
      "codemirror_mode": {
        "name": "ipython",
        "version": 3
      },
      "file_extension": ".py",
      "mimetype": "text/x-python",
      "name": "python",
      "nbconvert_exporter": "python",
      "pygments_lexer": "ipython3",
      "version": "3.7.3"
    },
    "nteract": {
      "version": "0.22.4"
    }
  },
  "cells": [
    {
      "cell_type": "markdown",
      "metadata": {
        "id": "view-in-github",
        "colab_type": "text"
      },
      "source": [
        "<a href=\"https://colab.research.google.com/github/dougscohen/DS-Unit-4-Sprint-2-Neural-Networks/blob/master/module2-backpropagation/LS_DS_422_Backprop_Assignment.ipynb\" target=\"_parent\"><img src=\"https://colab.research.google.com/assets/colab-badge.svg\" alt=\"Open In Colab\"/></a>"
      ]
    },
    {
      "cell_type": "markdown",
      "metadata": {
        "colab_type": "text",
        "id": "NGGrt9EYlCqY"
      },
      "source": [
        "<img align=\"left\" src=\"https://lever-client-logos.s3.amazonaws.com/864372b1-534c-480e-acd5-9711f850815c-1524247202159.png\" width=200>\n",
        "<br></br>\n",
        "\n",
        "# Backpropagation Practice\n",
        "\n",
        "## *Data Science Unit 4 Sprint 2 Assignment 2*\n",
        "\n",
        "Using TensorFlow Keras, Implement a 3 input, 4 node hidden-layer, 1 output node Multilayer Perceptron on the following dataset:\n",
        "\n",
        "| x1 | x2 | x3 | y |\n",
        "|----|----|----|---|\n",
        "| 0  | 0  | 1  | 0 |\n",
        "| 0  | 1  | 1  | 1 |\n",
        "| 1  | 0  | 1  | 1 |\n",
        "| 0  | 1  | 0  | 1 |\n",
        "| 1  | 0  | 0  | 1 |\n",
        "| 1  | 1  | 1  | 0 |\n",
        "| 0  | 0  | 0  | 0 |\n",
        "\n",
        "If you look at the data you'll notice that the first two columns behave like an XOR gate while the last column is mostly just noise. Remember that creating an XOR gate was what the perceptron was criticized for not being able to learn.\n",
        "\n",
        "This is your \"Hello World!\" of TensorFlow.\n",
        "\n",
        "### Example TensorFlow Starter Code\n",
        "\n",
        "```python \n",
        "from tensorflow.keras.models import Sequential\n",
        "from tensorflow.keras.layers import Dense\n",
        "\n",
        "model = Sequential([\n",
        "    Dense(3, activation='sigmoid', input_dim=2),\n",
        "    Dense(1, activation='sigmoid')\n",
        "])\n",
        "\n",
        "model.compile(optimizer='sgd', loss='binary_crossentropy', metrics=['acc'])\n",
        "\n",
        "results = model.fit(X,y, epochs=100)\n",
        "\n",
        "```\n",
        "\n",
        "### Additional Written Tasks:\n",
        "1. Investigate the various [loss functions](https://www.tensorflow.org/api_docs/python/tf/keras/losses). Which is best suited for the task at hand (predicting 1 / 0) and why? \n",
        "2. What is the difference between a loss function and a metric? Why might we need both in Keras? \n",
        "3. Investigate the various [optimizers](https://www.tensorflow.org/api_docs/python/tf/keras/optimizers). Stochastic Gradient Descent (`sgd`) is not the learning algorithm dejour anyone. Why is that? What do newer optimizers such as `adam` have to offer? "
      ]
    },
    {
      "cell_type": "markdown",
      "metadata": {
        "id": "BfmipERT00ON",
        "colab_type": "text"
      },
      "source": [
        "2. Loss function isn't interpretable and metrics are more intrepreatable but arent used in the model"
      ]
    },
    {
      "cell_type": "code",
      "metadata": {
        "id": "zhWM4gELCbNQ",
        "colab_type": "code",
        "colab": {}
      },
      "source": [
        "\"\"\" IMPORTS \"\"\"\n",
        "\n",
        "import pandas as pd\n",
        "\n",
        "from tensorflow.keras.models import Sequential\n",
        "from tensorflow.keras.layers import Dense, Flatten"
      ],
      "execution_count": 0,
      "outputs": []
    },
    {
      "cell_type": "code",
      "metadata": {
        "id": "CKvi6z7OjmQv",
        "colab_type": "code",
        "colab": {}
      },
      "source": [
        ""
      ],
      "execution_count": 0,
      "outputs": []
    },
    {
      "cell_type": "markdown",
      "metadata": {
        "id": "TBkkSNle99h-",
        "colab_type": "text"
      },
      "source": [
        "### Build a Tensor Keras Perceptron\n",
        "\n",
        "Try to match the architecture we used on Monday - inputs nodes and one output node. Apply this architecture to the XOR-ish dataset above. \n",
        "\n",
        "After fitting your model answer these questions: \n",
        "\n",
        "Are you able to achieve the same results as a bigger architecture from the first part of the assignment? Why is this disparity the case? What properties of the XOR dataset would cause this disparity? \n",
        "\n",
        "Now extrapolate this behavior on a much larger dataset in terms of features. What kind of architecture decisions could we make to avoid the problems the XOR dataset presents at scale? \n",
        "\n",
        "*Note:* The bias term is baked in by default in the Dense layer."
      ]
    },
    {
      "cell_type": "code",
      "metadata": {
        "id": "h6JFiPoCaEWM",
        "colab_type": "code",
        "colab": {}
      },
      "source": [
        "data = { 'x1': [0, 0, 1, 0, 1, 1, 0],\n",
        "         'x2': [0, 1, 0, 1, 0, 1, 0],\n",
        "         'x3': [1, 1, 1, 0, 0, 1, 0],\n",
        "         'y':  [0, 1, 1, 1, 1, 0, 0]\n",
        "       }\n",
        "\n",
        "df = pd.DataFrame(data=data)\n",
        "\n",
        "features = ['x1', 'x2', 'x3']\n",
        "\n",
        "# X features matrix\n",
        "X_train = df[features]\n",
        "\n",
        "# y target vector\n",
        "y_train = df['y']"
      ],
      "execution_count": 0,
      "outputs": []
    },
    {
      "cell_type": "code",
      "metadata": {
        "colab_type": "code",
        "id": "nEREYT-3wI1f",
        "outputId": "0d09c00e-1314-4ad1-d84e-1df5f0f38191",
        "colab": {
          "base_uri": "https://localhost:8080/",
          "height": 1000
        }
      },
      "source": [
        "model = Sequential([\n",
        "    Dense(3, activation='sigmoid', input_dim=3),\n",
        "    Dense(1, activation='sigmoid')\n",
        "])\n",
        "\n",
        "model.compile(optimizer='Adam', loss='mse', metrics=['accuracy', 'mae'])\n",
        " \n",
        "model.fit(X_train,y_train, epochs=100)"
      ],
      "execution_count": 18,
      "outputs": [
        {
          "output_type": "stream",
          "text": [
            "Epoch 1/100\n",
            "1/1 [==============================] - 0s 2ms/step - loss: 0.2613 - accuracy: 0.4286 - mae: 0.5080\n",
            "Epoch 2/100\n",
            "1/1 [==============================] - 0s 3ms/step - loss: 0.2611 - accuracy: 0.4286 - mae: 0.5079\n",
            "Epoch 3/100\n",
            "1/1 [==============================] - 0s 2ms/step - loss: 0.2609 - accuracy: 0.4286 - mae: 0.5078\n",
            "Epoch 4/100\n",
            "1/1 [==============================] - 0s 2ms/step - loss: 0.2607 - accuracy: 0.4286 - mae: 0.5077\n",
            "Epoch 5/100\n",
            "1/1 [==============================] - 0s 1ms/step - loss: 0.2606 - accuracy: 0.4286 - mae: 0.5076\n",
            "Epoch 6/100\n",
            "1/1 [==============================] - 0s 2ms/step - loss: 0.2604 - accuracy: 0.4286 - mae: 0.5075\n",
            "Epoch 7/100\n",
            "1/1 [==============================] - 0s 2ms/step - loss: 0.2602 - accuracy: 0.4286 - mae: 0.5074\n",
            "Epoch 8/100\n",
            "1/1 [==============================] - 0s 1ms/step - loss: 0.2601 - accuracy: 0.4286 - mae: 0.5073\n",
            "Epoch 9/100\n",
            "1/1 [==============================] - 0s 2ms/step - loss: 0.2599 - accuracy: 0.4286 - mae: 0.5072\n",
            "Epoch 10/100\n",
            "1/1 [==============================] - 0s 2ms/step - loss: 0.2597 - accuracy: 0.4286 - mae: 0.5071\n",
            "Epoch 11/100\n",
            "1/1 [==============================] - 0s 3ms/step - loss: 0.2596 - accuracy: 0.4286 - mae: 0.5070\n",
            "Epoch 12/100\n",
            "1/1 [==============================] - 0s 1ms/step - loss: 0.2594 - accuracy: 0.4286 - mae: 0.5069\n",
            "Epoch 13/100\n",
            "1/1 [==============================] - 0s 1ms/step - loss: 0.2592 - accuracy: 0.4286 - mae: 0.5068\n",
            "Epoch 14/100\n",
            "1/1 [==============================] - 0s 2ms/step - loss: 0.2591 - accuracy: 0.4286 - mae: 0.5067\n",
            "Epoch 15/100\n",
            "1/1 [==============================] - 0s 1ms/step - loss: 0.2589 - accuracy: 0.4286 - mae: 0.5066\n",
            "Epoch 16/100\n",
            "1/1 [==============================] - 0s 2ms/step - loss: 0.2588 - accuracy: 0.4286 - mae: 0.5065\n",
            "Epoch 17/100\n",
            "1/1 [==============================] - 0s 2ms/step - loss: 0.2586 - accuracy: 0.4286 - mae: 0.5064\n",
            "Epoch 18/100\n",
            "1/1 [==============================] - 0s 2ms/step - loss: 0.2585 - accuracy: 0.4286 - mae: 0.5063\n",
            "Epoch 19/100\n",
            "1/1 [==============================] - 0s 2ms/step - loss: 0.2583 - accuracy: 0.4286 - mae: 0.5062\n",
            "Epoch 20/100\n",
            "1/1 [==============================] - 0s 1ms/step - loss: 0.2581 - accuracy: 0.4286 - mae: 0.5061\n",
            "Epoch 21/100\n",
            "1/1 [==============================] - 0s 2ms/step - loss: 0.2580 - accuracy: 0.4286 - mae: 0.5060\n",
            "Epoch 22/100\n",
            "1/1 [==============================] - 0s 1ms/step - loss: 0.2578 - accuracy: 0.4286 - mae: 0.5059\n",
            "Epoch 23/100\n",
            "1/1 [==============================] - 0s 1ms/step - loss: 0.2577 - accuracy: 0.4286 - mae: 0.5058\n",
            "Epoch 24/100\n",
            "1/1 [==============================] - 0s 1ms/step - loss: 0.2575 - accuracy: 0.4286 - mae: 0.5057\n",
            "Epoch 25/100\n",
            "1/1 [==============================] - 0s 1ms/step - loss: 0.2574 - accuracy: 0.4286 - mae: 0.5056\n",
            "Epoch 26/100\n",
            "1/1 [==============================] - 0s 2ms/step - loss: 0.2573 - accuracy: 0.4286 - mae: 0.5055\n",
            "Epoch 27/100\n",
            "1/1 [==============================] - 0s 2ms/step - loss: 0.2571 - accuracy: 0.4286 - mae: 0.5054\n",
            "Epoch 28/100\n",
            "1/1 [==============================] - 0s 1ms/step - loss: 0.2570 - accuracy: 0.4286 - mae: 0.5053\n",
            "Epoch 29/100\n",
            "1/1 [==============================] - 0s 1ms/step - loss: 0.2568 - accuracy: 0.4286 - mae: 0.5052\n",
            "Epoch 30/100\n",
            "1/1 [==============================] - 0s 2ms/step - loss: 0.2567 - accuracy: 0.4286 - mae: 0.5051\n",
            "Epoch 31/100\n",
            "1/1 [==============================] - 0s 2ms/step - loss: 0.2565 - accuracy: 0.5714 - mae: 0.5050\n",
            "Epoch 32/100\n",
            "1/1 [==============================] - 0s 2ms/step - loss: 0.2564 - accuracy: 0.5714 - mae: 0.5049\n",
            "Epoch 33/100\n",
            "1/1 [==============================] - 0s 1ms/step - loss: 0.2563 - accuracy: 0.5714 - mae: 0.5048\n",
            "Epoch 34/100\n",
            "1/1 [==============================] - 0s 2ms/step - loss: 0.2561 - accuracy: 0.5714 - mae: 0.5047\n",
            "Epoch 35/100\n",
            "1/1 [==============================] - 0s 2ms/step - loss: 0.2560 - accuracy: 0.5714 - mae: 0.5046\n",
            "Epoch 36/100\n",
            "1/1 [==============================] - 0s 2ms/step - loss: 0.2559 - accuracy: 0.5714 - mae: 0.5045\n",
            "Epoch 37/100\n",
            "1/1 [==============================] - 0s 2ms/step - loss: 0.2557 - accuracy: 0.5714 - mae: 0.5044\n",
            "Epoch 38/100\n",
            "1/1 [==============================] - 0s 2ms/step - loss: 0.2556 - accuracy: 0.5714 - mae: 0.5043\n",
            "Epoch 39/100\n",
            "1/1 [==============================] - 0s 2ms/step - loss: 0.2555 - accuracy: 0.5714 - mae: 0.5042\n",
            "Epoch 40/100\n",
            "1/1 [==============================] - 0s 2ms/step - loss: 0.2553 - accuracy: 0.5714 - mae: 0.5041\n",
            "Epoch 41/100\n",
            "1/1 [==============================] - 0s 1ms/step - loss: 0.2552 - accuracy: 0.5714 - mae: 0.5040\n",
            "Epoch 42/100\n",
            "1/1 [==============================] - 0s 2ms/step - loss: 0.2551 - accuracy: 0.7143 - mae: 0.5040\n",
            "Epoch 43/100\n",
            "1/1 [==============================] - 0s 1ms/step - loss: 0.2549 - accuracy: 0.7143 - mae: 0.5039\n",
            "Epoch 44/100\n",
            "1/1 [==============================] - 0s 4ms/step - loss: 0.2548 - accuracy: 0.7143 - mae: 0.5038\n",
            "Epoch 45/100\n",
            "1/1 [==============================] - 0s 2ms/step - loss: 0.2547 - accuracy: 0.7143 - mae: 0.5037\n",
            "Epoch 46/100\n",
            "1/1 [==============================] - 0s 2ms/step - loss: 0.2546 - accuracy: 0.7143 - mae: 0.5036\n",
            "Epoch 47/100\n",
            "1/1 [==============================] - 0s 2ms/step - loss: 0.2544 - accuracy: 0.7143 - mae: 0.5035\n",
            "Epoch 48/100\n",
            "1/1 [==============================] - 0s 2ms/step - loss: 0.2543 - accuracy: 0.7143 - mae: 0.5034\n",
            "Epoch 49/100\n",
            "1/1 [==============================] - 0s 2ms/step - loss: 0.2542 - accuracy: 0.7143 - mae: 0.5033\n",
            "Epoch 50/100\n",
            "1/1 [==============================] - 0s 2ms/step - loss: 0.2541 - accuracy: 0.7143 - mae: 0.5032\n",
            "Epoch 51/100\n",
            "1/1 [==============================] - 0s 2ms/step - loss: 0.2540 - accuracy: 0.7143 - mae: 0.5031\n",
            "Epoch 52/100\n",
            "1/1 [==============================] - 0s 2ms/step - loss: 0.2539 - accuracy: 0.7143 - mae: 0.5030\n",
            "Epoch 53/100\n",
            "1/1 [==============================] - 0s 2ms/step - loss: 0.2537 - accuracy: 0.7143 - mae: 0.5029\n",
            "Epoch 54/100\n",
            "1/1 [==============================] - 0s 2ms/step - loss: 0.2536 - accuracy: 0.7143 - mae: 0.5028\n",
            "Epoch 55/100\n",
            "1/1 [==============================] - 0s 2ms/step - loss: 0.2535 - accuracy: 0.7143 - mae: 0.5027\n",
            "Epoch 56/100\n",
            "1/1 [==============================] - 0s 2ms/step - loss: 0.2534 - accuracy: 0.7143 - mae: 0.5026\n",
            "Epoch 57/100\n",
            "1/1 [==============================] - 0s 2ms/step - loss: 0.2533 - accuracy: 0.7143 - mae: 0.5025\n",
            "Epoch 58/100\n",
            "1/1 [==============================] - 0s 3ms/step - loss: 0.2532 - accuracy: 0.7143 - mae: 0.5025\n",
            "Epoch 59/100\n",
            "1/1 [==============================] - 0s 2ms/step - loss: 0.2531 - accuracy: 0.7143 - mae: 0.5024\n",
            "Epoch 60/100\n",
            "1/1 [==============================] - 0s 3ms/step - loss: 0.2530 - accuracy: 0.7143 - mae: 0.5023\n",
            "Epoch 61/100\n",
            "1/1 [==============================] - 0s 2ms/step - loss: 0.2528 - accuracy: 0.7143 - mae: 0.5022\n",
            "Epoch 62/100\n",
            "1/1 [==============================] - 0s 2ms/step - loss: 0.2527 - accuracy: 0.7143 - mae: 0.5021\n",
            "Epoch 63/100\n",
            "1/1 [==============================] - 0s 2ms/step - loss: 0.2526 - accuracy: 0.7143 - mae: 0.5020\n",
            "Epoch 64/100\n",
            "1/1 [==============================] - 0s 2ms/step - loss: 0.2525 - accuracy: 0.7143 - mae: 0.5019\n",
            "Epoch 65/100\n",
            "1/1 [==============================] - 0s 2ms/step - loss: 0.2524 - accuracy: 0.7143 - mae: 0.5018\n",
            "Epoch 66/100\n",
            "1/1 [==============================] - 0s 2ms/step - loss: 0.2523 - accuracy: 0.7143 - mae: 0.5017\n",
            "Epoch 67/100\n",
            "1/1 [==============================] - 0s 2ms/step - loss: 0.2522 - accuracy: 0.7143 - mae: 0.5016\n",
            "Epoch 68/100\n",
            "1/1 [==============================] - 0s 2ms/step - loss: 0.2521 - accuracy: 0.7143 - mae: 0.5016\n",
            "Epoch 69/100\n",
            "1/1 [==============================] - 0s 2ms/step - loss: 0.2520 - accuracy: 0.7143 - mae: 0.5015\n",
            "Epoch 70/100\n",
            "1/1 [==============================] - 0s 2ms/step - loss: 0.2519 - accuracy: 0.7143 - mae: 0.5014\n",
            "Epoch 71/100\n",
            "1/1 [==============================] - 0s 2ms/step - loss: 0.2518 - accuracy: 0.7143 - mae: 0.5013\n",
            "Epoch 72/100\n",
            "1/1 [==============================] - 0s 2ms/step - loss: 0.2517 - accuracy: 0.7143 - mae: 0.5012\n",
            "Epoch 73/100\n",
            "1/1 [==============================] - 0s 2ms/step - loss: 0.2516 - accuracy: 0.7143 - mae: 0.5011\n",
            "Epoch 74/100\n",
            "1/1 [==============================] - 0s 2ms/step - loss: 0.2515 - accuracy: 0.7143 - mae: 0.5010\n",
            "Epoch 75/100\n",
            "1/1 [==============================] - 0s 2ms/step - loss: 0.2514 - accuracy: 0.7143 - mae: 0.5009\n",
            "Epoch 76/100\n",
            "1/1 [==============================] - 0s 1ms/step - loss: 0.2513 - accuracy: 0.7143 - mae: 0.5009\n",
            "Epoch 77/100\n",
            "1/1 [==============================] - 0s 2ms/step - loss: 0.2513 - accuracy: 0.7143 - mae: 0.5008\n",
            "Epoch 78/100\n",
            "1/1 [==============================] - 0s 2ms/step - loss: 0.2512 - accuracy: 0.7143 - mae: 0.5007\n",
            "Epoch 79/100\n",
            "1/1 [==============================] - 0s 2ms/step - loss: 0.2511 - accuracy: 0.7143 - mae: 0.5006\n",
            "Epoch 80/100\n",
            "1/1 [==============================] - 0s 2ms/step - loss: 0.2510 - accuracy: 0.7143 - mae: 0.5005\n",
            "Epoch 81/100\n",
            "1/1 [==============================] - 0s 2ms/step - loss: 0.2509 - accuracy: 0.5714 - mae: 0.5004\n",
            "Epoch 82/100\n",
            "1/1 [==============================] - 0s 3ms/step - loss: 0.2508 - accuracy: 0.5714 - mae: 0.5003\n",
            "Epoch 83/100\n",
            "1/1 [==============================] - 0s 2ms/step - loss: 0.2507 - accuracy: 0.5714 - mae: 0.5003\n",
            "Epoch 84/100\n",
            "1/1 [==============================] - 0s 2ms/step - loss: 0.2506 - accuracy: 0.5714 - mae: 0.5002\n",
            "Epoch 85/100\n",
            "1/1 [==============================] - 0s 2ms/step - loss: 0.2505 - accuracy: 0.5714 - mae: 0.5001\n",
            "Epoch 86/100\n",
            "1/1 [==============================] - 0s 2ms/step - loss: 0.2505 - accuracy: 0.5714 - mae: 0.5000\n",
            "Epoch 87/100\n",
            "1/1 [==============================] - 0s 2ms/step - loss: 0.2504 - accuracy: 0.5714 - mae: 0.4999\n",
            "Epoch 88/100\n",
            "1/1 [==============================] - 0s 2ms/step - loss: 0.2503 - accuracy: 0.5714 - mae: 0.4998\n",
            "Epoch 89/100\n",
            "1/1 [==============================] - 0s 2ms/step - loss: 0.2502 - accuracy: 0.4286 - mae: 0.4998\n",
            "Epoch 90/100\n",
            "1/1 [==============================] - 0s 2ms/step - loss: 0.2501 - accuracy: 0.4286 - mae: 0.4997\n",
            "Epoch 91/100\n",
            "1/1 [==============================] - 0s 2ms/step - loss: 0.2500 - accuracy: 0.4286 - mae: 0.4996\n",
            "Epoch 92/100\n",
            "1/1 [==============================] - 0s 2ms/step - loss: 0.2500 - accuracy: 0.4286 - mae: 0.4995\n",
            "Epoch 93/100\n",
            "1/1 [==============================] - 0s 2ms/step - loss: 0.2499 - accuracy: 0.4286 - mae: 0.4994\n",
            "Epoch 94/100\n",
            "1/1 [==============================] - 0s 2ms/step - loss: 0.2498 - accuracy: 0.4286 - mae: 0.4993\n",
            "Epoch 95/100\n",
            "1/1 [==============================] - 0s 2ms/step - loss: 0.2497 - accuracy: 0.2857 - mae: 0.4993\n",
            "Epoch 96/100\n",
            "1/1 [==============================] - 0s 2ms/step - loss: 0.2496 - accuracy: 0.2857 - mae: 0.4992\n",
            "Epoch 97/100\n",
            "1/1 [==============================] - 0s 2ms/step - loss: 0.2496 - accuracy: 0.2857 - mae: 0.4991\n",
            "Epoch 98/100\n",
            "1/1 [==============================] - 0s 2ms/step - loss: 0.2495 - accuracy: 0.2857 - mae: 0.4990\n",
            "Epoch 99/100\n",
            "1/1 [==============================] - 0s 2ms/step - loss: 0.2494 - accuracy: 0.2857 - mae: 0.4989\n",
            "Epoch 100/100\n",
            "1/1 [==============================] - 0s 1ms/step - loss: 0.2493 - accuracy: 0.2857 - mae: 0.4989\n"
          ],
          "name": "stdout"
        },
        {
          "output_type": "execute_result",
          "data": {
            "text/plain": [
              "<tensorflow.python.keras.callbacks.History at 0x7f5f49f026d8>"
            ]
          },
          "metadata": {
            "tags": []
          },
          "execution_count": 18
        }
      ]
    },
    {
      "cell_type": "code",
      "metadata": {
        "id": "z_7Vl0umbZXg",
        "colab_type": "code",
        "colab": {
          "base_uri": "https://localhost:8080/",
          "height": 87
        },
        "outputId": "b5f41991-4ff2-4c43-8dce-9e327af495d6"
      },
      "source": [
        "# Evaluate the model \n",
        "\n",
        "scores = model.evaluate(X_train, y_train)\n",
        "print(f\"{model.metrics_names[0]}: {scores[0]}\")\n",
        "print(f\"{model.metrics_names[1]}: {scores[1]*100}\")\n",
        "print(f\"{model.metrics_names[2]}: {scores[2]*100}\")"
      ],
      "execution_count": 19,
      "outputs": [
        {
          "output_type": "stream",
          "text": [
            "1/1 [==============================] - 0s 1ms/step - loss: 0.2493 - accuracy: 0.2857 - mae: 0.4988\n",
            "loss: 0.24927131831645966\n",
            "accuracy: 28.57142984867096\n",
            "mae: 49.87838566303253\n"
          ],
          "name": "stdout"
        }
      ]
    },
    {
      "cell_type": "markdown",
      "metadata": {
        "colab_type": "text",
        "id": "8b-r70o8p2Dm"
      },
      "source": [
        "## Try building/training a more complex MLP on a bigger dataset.\n",
        "\n",
        "Use TensorFlow Keras & the [MNIST dataset](http://yann.lecun.com/exdb/mnist/) to build the canonical handwriting digit recognizer and see what kind of accuracy you can achieve. \n",
        "\n",
        "If you need inspiration, the Internet is chalk-full of tutorials, but I want you to see how far you can get on your own first. I've linked to the original MNIST dataset above but it will probably be easier to download data through a neural network library. If you reference outside resources make sure you understand every line of code that you're using from other sources, and share with your fellow students helpful resources that you find.\n",
        "\n",
        "\n",
        "### Parts\n",
        "1. Gathering & Transforming the Data\n",
        "2. Making MNIST a Binary Problem\n",
        "3. Estimating your Neural Network (the part you focus on)"
      ]
    },
    {
      "cell_type": "markdown",
      "metadata": {
        "id": "qD-aTRbe99iB",
        "colab_type": "text"
      },
      "source": [
        "### Gathering the Data \n",
        "\n",
        "`keras` has a handy method to pull the mnist dataset for you. You'll notice that each observation is a 28x28 arrary which represents an image. Although most Neural Network frameworks can handle higher dimensional data, that is more overhead than necessary for us. We need to flatten the image to one long row which will be 784 values (28X28). Basically, you will be appending each row to one another to make on really long row. "
      ]
    },
    {
      "cell_type": "code",
      "metadata": {
        "id": "MQll_WtP99iB",
        "colab_type": "code",
        "colab": {}
      },
      "source": [
        "import numpy as np\n",
        "from tensorflow.keras.datasets import mnist\n",
        "from tensorflow.keras.utils import to_categorical"
      ],
      "execution_count": 0,
      "outputs": []
    },
    {
      "cell_type": "code",
      "metadata": {
        "id": "uiqO7loB99iD",
        "colab_type": "code",
        "colab": {}
      },
      "source": [
        "# input image dimensions\n",
        "img_rows, img_cols = 28, 28"
      ],
      "execution_count": 0,
      "outputs": []
    },
    {
      "cell_type": "code",
      "metadata": {
        "id": "xrlQmKOu99iF",
        "colab_type": "code",
        "colab": {}
      },
      "source": [
        "# the data, split between train and test sets\n",
        "(X_train, y_train), (X_test, y_test) = mnist.load_data()"
      ],
      "execution_count": 0,
      "outputs": []
    },
    {
      "cell_type": "code",
      "metadata": {
        "id": "vbyePrxW99iI",
        "colab_type": "code",
        "colab": {}
      },
      "source": [
        "X_train = X_train.reshape(X_train.shape[0], img_rows * img_cols)\n",
        "X_test = X_test.reshape(X_test.shape[0], img_rows * img_cols)\n",
        "\n",
        "# Normalize Our Data\n",
        "X_train = X_train / 255\n",
        "X_test = X_test / 255"
      ],
      "execution_count": 0,
      "outputs": []
    },
    {
      "cell_type": "code",
      "metadata": {
        "id": "xnU_NKfo99iL",
        "colab_type": "code",
        "outputId": "22e0c4d9-418f-4890-c5e5-419f6f68bbf4",
        "colab": {
          "base_uri": "https://localhost:8080/",
          "height": 34
        }
      },
      "source": [
        "# Now the data should be in a format you're more familiar with\n",
        "X_train.shape"
      ],
      "execution_count": 27,
      "outputs": [
        {
          "output_type": "execute_result",
          "data": {
            "text/plain": [
              "(60000, 784)"
            ]
          },
          "metadata": {
            "tags": []
          },
          "execution_count": 27
        }
      ]
    },
    {
      "cell_type": "code",
      "metadata": {
        "id": "Qq1CEfW1mpHj",
        "colab_type": "code",
        "colab": {
          "base_uri": "https://localhost:8080/",
          "height": 34
        },
        "outputId": "08546512-d547-4c9e-fbca-c7f37513d85a"
      },
      "source": [
        "X_test.shape"
      ],
      "execution_count": 28,
      "outputs": [
        {
          "output_type": "execute_result",
          "data": {
            "text/plain": [
              "(10000, 784)"
            ]
          },
          "metadata": {
            "tags": []
          },
          "execution_count": 28
        }
      ]
    },
    {
      "cell_type": "markdown",
      "metadata": {
        "id": "ReiEwzXE99iO",
        "colab_type": "text"
      },
      "source": [
        "### Making MNIST a Binary Problem \n",
        "MNIST is multiclass classification problem; however we haven't covered all the necessary techniques to handle this yet. You would need to one-hot encode the target, use a different loss metric, and use softmax activations for the last layer. This is all stuff we'll cover later this week, but let us simplify the problem for now: Zero or all else."
      ]
    },
    {
      "cell_type": "code",
      "metadata": {
        "id": "z2QP5okh99iO",
        "colab_type": "code",
        "colab": {}
      },
      "source": [
        "import numpy as np\n",
        "\n",
        "y_temp = np.zeros(y_train.shape)\n",
        "y_temp[np.where(y_train == 0.0)[0]] = 1\n",
        "y_train = y_temp\n",
        "\n",
        "y_temp = np.zeros(y_test.shape)\n",
        "y_temp[np.where(y_test == 0.0)[0]] = 1\n",
        "y_test = y_temp"
      ],
      "execution_count": 0,
      "outputs": []
    },
    {
      "cell_type": "code",
      "metadata": {
        "id": "PqnZQCUB99iQ",
        "colab_type": "code",
        "outputId": "72cbd408-cdc6-4381-8f88-5fdda417f774",
        "colab": {
          "base_uri": "https://localhost:8080/",
          "height": 34
        }
      },
      "source": [
        "# A Nice Binary target for ya to work with\n",
        "y_train"
      ],
      "execution_count": 32,
      "outputs": [
        {
          "output_type": "execute_result",
          "data": {
            "text/plain": [
              "array([0., 1., 0., ..., 0., 0., 0.])"
            ]
          },
          "metadata": {
            "tags": []
          },
          "execution_count": 32
        }
      ]
    },
    {
      "cell_type": "markdown",
      "metadata": {
        "id": "oGWLip8f99iS",
        "colab_type": "text"
      },
      "source": [
        "### Estimating Your `net"
      ]
    },
    {
      "cell_type": "code",
      "metadata": {
        "colab_type": "code",
        "id": "5MOPtYdk1HgA",
        "colab": {}
      },
      "source": [
        "### 1. Define Model ###\n",
        "\n",
        "model = Sequential()\n",
        "\n",
        "model.add(Dense(10, activation='softmax'))"
      ],
      "execution_count": 0,
      "outputs": []
    },
    {
      "cell_type": "code",
      "metadata": {
        "id": "uNKJp2fQraW3",
        "colab_type": "code",
        "colab": {}
      },
      "source": [
        "### 2. Compile the Model ###\n",
        "\n",
        "model.compile(loss='binary_crossentropy', optimizer='adam', metrics=['accuracy'])"
      ],
      "execution_count": 0,
      "outputs": []
    },
    {
      "cell_type": "code",
      "metadata": {
        "id": "FAakfpFWrvJG",
        "colab_type": "code",
        "colab": {
          "base_uri": "https://localhost:8080/",
          "height": 390
        },
        "outputId": "951db8a9-4089-48fa-f2b0-4c70cf4850eb"
      },
      "source": [
        "### 3. Fit the Model ###\n",
        "\n",
        "model.fit(X_train, y_train, epochs=10)"
      ],
      "execution_count": 70,
      "outputs": [
        {
          "output_type": "stream",
          "text": [
            "Epoch 1/10\n",
            "1875/1875 [==============================] - 2s 1ms/step - loss: 0.3230 - accuracy: 0.1054\n",
            "Epoch 2/10\n",
            "1875/1875 [==============================] - 2s 1ms/step - loss: 0.3225 - accuracy: 0.0970\n",
            "Epoch 3/10\n",
            "1875/1875 [==============================] - 2s 1ms/step - loss: 0.3224 - accuracy: 0.1023\n",
            "Epoch 4/10\n",
            "1875/1875 [==============================] - 2s 1ms/step - loss: 0.3223 - accuracy: 0.0936\n",
            "Epoch 5/10\n",
            "1875/1875 [==============================] - 2s 1ms/step - loss: 0.3224 - accuracy: 0.0880\n",
            "Epoch 6/10\n",
            "1875/1875 [==============================] - 2s 1ms/step - loss: 0.3223 - accuracy: 0.1092\n",
            "Epoch 7/10\n",
            "1875/1875 [==============================] - 2s 1ms/step - loss: 0.3224 - accuracy: 0.1151\n",
            "Epoch 8/10\n",
            "1875/1875 [==============================] - 2s 1ms/step - loss: 0.3223 - accuracy: 0.0947\n",
            "Epoch 9/10\n",
            "1875/1875 [==============================] - 2s 1ms/step - loss: 0.3224 - accuracy: 0.0980\n",
            "Epoch 10/10\n",
            "1875/1875 [==============================] - 2s 1ms/step - loss: 0.3223 - accuracy: 0.1015\n"
          ],
          "name": "stdout"
        },
        {
          "output_type": "execute_result",
          "data": {
            "text/plain": [
              "<tensorflow.python.keras.callbacks.History at 0x7f5f419dc160>"
            ]
          },
          "metadata": {
            "tags": []
          },
          "execution_count": 70
        }
      ]
    },
    {
      "cell_type": "code",
      "metadata": {
        "id": "XFNvjUylsE1X",
        "colab_type": "code",
        "colab": {
          "base_uri": "https://localhost:8080/",
          "height": 87
        },
        "outputId": "379117e2-58d6-4c01-ba9b-4efe48a61329"
      },
      "source": [
        "### Evaluate the Model\n",
        "\n",
        "scores = model.evaluate(X_test, y_test)\n",
        "print(\"Validation Data Metrics:\")\n",
        "print(f\"{model.metrics_names[0]}: {scores[0]}\")\n",
        "print(f\"{model.metrics_names[1]}: {scores[1]*100}\")"
      ],
      "execution_count": 71,
      "outputs": [
        {
          "output_type": "stream",
          "text": [
            "313/313 [==============================] - 0s 1ms/step - loss: 0.3207 - accuracy: 0.0957\n",
            "Validation Data Metrics:\n",
            "loss: 0.32072913646698\n",
            "accuracy: 9.570000320672989\n"
          ],
          "name": "stdout"
        }
      ]
    },
    {
      "cell_type": "markdown",
      "metadata": {
        "colab_type": "text",
        "id": "FwlRJSfBlCvy"
      },
      "source": [
        "## Stretch Goals: \n",
        "\n",
        "- Make MNIST a multiclass problem using cross entropy & soft-max\n",
        "- Implement Cross Validation model evaluation on your MNIST implementation \n",
        "- Research different [Gradient Descent Based Optimizers](https://keras.io/optimizers/)\n",
        " - [Siraj Raval the evolution of gradient descent](https://www.youtube.com/watch?v=nhqo0u1a6fw)\n",
        "- Build a housing price estimation model using a neural network. How does its accuracy compare with the regression models that we fit earlier on in class?"
      ]
    }
  ]
}